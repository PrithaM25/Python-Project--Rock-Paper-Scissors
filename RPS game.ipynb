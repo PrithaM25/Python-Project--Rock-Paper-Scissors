{
 "cells": [
  {
   "cell_type": "code",
   "execution_count": null,
   "id": "1c12ac34-bb59-4792-bdd5-c6a026d858eb",
   "metadata": {},
   "outputs": [
    {
     "name": "stdout",
     "output_type": "stream",
     "text": [
      "~~~~~~~~~~Welcome to RPS~~~~~~~~~~~~~\n"
     ]
    },
    {
     "name": "stdin",
     "output_type": "stream",
     "text": [
      "Enter your name here: Pritha\n"
     ]
    },
    {
     "name": "stdout",
     "output_type": "stream",
     "text": [
      "\n",
      "Winning Rules:\n",
      "1. Paper VS Rock--> Paper\n",
      "2. Rock VS Scissors--> Rock\n",
      "3. Scissors VS Paper--> Scissors\n",
      "\n",
      "Choices are:\n",
      "    1. Rock\n",
      "    2. Paper\n",
      "    3. Scissors\n"
     ]
    },
    {
     "name": "stdin",
     "output_type": "stream",
     "text": [
      "Enter your choice from 1-3: 2\n"
     ]
    },
    {
     "name": "stdout",
     "output_type": "stream",
     "text": [
      "\n",
      " The user's choice is Paper\n",
      "Now it is computer's turn\n",
      "The computer's choice is Scissors\n",
      "Scissors Wins\n",
      "Scores are\n",
      "Pritha 's score is 0\n",
      "computer's score is 1\n",
      "ties are: tie 0\n"
     ]
    },
    {
     "name": "stdin",
     "output_type": "stream",
     "text": [
      "Do you want to play again? yes\n"
     ]
    },
    {
     "name": "stdout",
     "output_type": "stream",
     "text": [
      "Game Over\n",
      "Thanks for playing\n",
      "Choices are:\n",
      "    1. Rock\n",
      "    2. Paper\n",
      "    3. Scissors\n"
     ]
    },
    {
     "name": "stdin",
     "output_type": "stream",
     "text": [
      "Enter your choice from 1-3: 2\n"
     ]
    },
    {
     "name": "stdout",
     "output_type": "stream",
     "text": [
      "\n",
      " The user's choice is Paper\n",
      "Now it is computer's turn\n",
      "The computer's choice is Paper\n",
      "it's a tie\n",
      "Scores are\n",
      "Pritha 's score is 0\n",
      "computer's score is 1\n",
      "ties are: tie 0\n"
     ]
    },
    {
     "name": "stdin",
     "output_type": "stream",
     "text": [
      "Do you want to play again? yes\n"
     ]
    },
    {
     "name": "stdout",
     "output_type": "stream",
     "text": [
      "Game Over\n",
      "Thanks for playing\n",
      "Choices are:\n",
      "    1. Rock\n",
      "    2. Paper\n",
      "    3. Scissors\n"
     ]
    },
    {
     "name": "stdin",
     "output_type": "stream",
     "text": [
      "Enter your choice from 1-3: 3\n"
     ]
    },
    {
     "name": "stdout",
     "output_type": "stream",
     "text": [
      "\n",
      " The user's choice is Scissors\n",
      "Now it is computer's turn\n",
      "The computer's choice is Rock\n",
      "Rock Wins\n",
      "Scores are\n",
      "Pritha 's score is 0\n",
      "computer's score is 2\n",
      "ties are: tie 0\n"
     ]
    },
    {
     "name": "stdin",
     "output_type": "stream",
     "text": [
      "Do you want to play again? yes\n"
     ]
    },
    {
     "name": "stdout",
     "output_type": "stream",
     "text": [
      "Game Over\n",
      "Thanks for playing\n",
      "Choices are:\n",
      "    1. Rock\n",
      "    2. Paper\n",
      "    3. Scissors\n"
     ]
    },
    {
     "name": "stdin",
     "output_type": "stream",
     "text": [
      "Enter your choice from 1-3: 1\n"
     ]
    },
    {
     "name": "stdout",
     "output_type": "stream",
     "text": [
      "\n",
      " The user's choice is Rock\n",
      "Now it is computer's turn\n",
      "The computer's choice is Rock\n",
      "it's a tie\n",
      "Scores are\n",
      "Pritha 's score is 0\n",
      "computer's score is 2\n",
      "ties are: tie 0\n"
     ]
    },
    {
     "name": "stdin",
     "output_type": "stream",
     "text": [
      "Do you want to play again? yes\n"
     ]
    },
    {
     "name": "stdout",
     "output_type": "stream",
     "text": [
      "Game Over\n",
      "Thanks for playing\n",
      "Choices are:\n",
      "    1. Rock\n",
      "    2. Paper\n",
      "    3. Scissors\n"
     ]
    },
    {
     "name": "stdin",
     "output_type": "stream",
     "text": [
      "Enter your choice from 1-3: 1\n"
     ]
    },
    {
     "name": "stdout",
     "output_type": "stream",
     "text": [
      "\n",
      " The user's choice is Rock\n",
      "Now it is computer's turn\n",
      "The computer's choice is Rock\n",
      "it's a tie\n",
      "Scores are\n",
      "Pritha 's score is 0\n",
      "computer's score is 2\n",
      "ties are: tie 0\n"
     ]
    },
    {
     "name": "stdin",
     "output_type": "stream",
     "text": [
      "Do you want to play again? 2\n"
     ]
    },
    {
     "name": "stdout",
     "output_type": "stream",
     "text": [
      "Game Over\n",
      "Thanks for playing\n",
      "Choices are:\n",
      "    1. Rock\n",
      "    2. Paper\n",
      "    3. Scissors\n"
     ]
    },
    {
     "name": "stdin",
     "output_type": "stream",
     "text": [
      "Enter your choice from 1-3: 2\n"
     ]
    },
    {
     "name": "stdout",
     "output_type": "stream",
     "text": [
      "\n",
      " The user's choice is Paper\n",
      "Now it is computer's turn\n",
      "The computer's choice is Rock\n",
      "Paper Wins\n",
      "Scores are\n",
      "Pritha 's score is 1\n",
      "computer's score is 2\n",
      "ties are: tie 0\n"
     ]
    },
    {
     "name": "stdin",
     "output_type": "stream",
     "text": [
      "Do you want to play again? yes\n"
     ]
    },
    {
     "name": "stdout",
     "output_type": "stream",
     "text": [
      "Game Over\n",
      "Thanks for playing\n",
      "Choices are:\n",
      "    1. Rock\n",
      "    2. Paper\n",
      "    3. Scissors\n"
     ]
    },
    {
     "name": "stdin",
     "output_type": "stream",
     "text": [
      "Enter your choice from 1-3: 1\n"
     ]
    },
    {
     "name": "stdout",
     "output_type": "stream",
     "text": [
      "\n",
      " The user's choice is Rock\n",
      "Now it is computer's turn\n",
      "The computer's choice is Paper\n",
      "Paper Wins\n",
      "Scores are\n",
      "Pritha 's score is 1\n",
      "computer's score is 3\n",
      "ties are: tie 0\n"
     ]
    },
    {
     "name": "stdin",
     "output_type": "stream",
     "text": [
      "Do you want to play again? yes\n"
     ]
    },
    {
     "name": "stdout",
     "output_type": "stream",
     "text": [
      "Game Over\n",
      "Thanks for playing\n",
      "Choices are:\n",
      "    1. Rock\n",
      "    2. Paper\n",
      "    3. Scissors\n"
     ]
    },
    {
     "name": "stdin",
     "output_type": "stream",
     "text": [
      "Enter your choice from 1-3: 3\n"
     ]
    },
    {
     "name": "stdout",
     "output_type": "stream",
     "text": [
      "\n",
      " The user's choice is Scissors\n",
      "Now it is computer's turn\n",
      "The computer's choice is Rock\n",
      "Rock Wins\n",
      "Scores are\n",
      "Pritha 's score is 1\n",
      "computer's score is 4\n",
      "ties are: tie 0\n"
     ]
    },
    {
     "name": "stdin",
     "output_type": "stream",
     "text": [
      "Do you want to play again? yes\n"
     ]
    },
    {
     "name": "stdout",
     "output_type": "stream",
     "text": [
      "Game Over\n",
      "Thanks for playing\n",
      "Choices are:\n",
      "    1. Rock\n",
      "    2. Paper\n",
      "    3. Scissors\n"
     ]
    },
    {
     "name": "stdin",
     "output_type": "stream",
     "text": [
      "Enter your choice from 1-3: 2\n"
     ]
    },
    {
     "name": "stdout",
     "output_type": "stream",
     "text": [
      "\n",
      " The user's choice is Paper\n",
      "Now it is computer's turn\n",
      "The computer's choice is Paper\n",
      "it's a tie\n",
      "Scores are\n",
      "Pritha 's score is 1\n",
      "computer's score is 4\n",
      "ties are: tie 0\n"
     ]
    },
    {
     "name": "stdin",
     "output_type": "stream",
     "text": [
      "Do you want to play again? yes\n"
     ]
    },
    {
     "name": "stdout",
     "output_type": "stream",
     "text": [
      "Game Over\n",
      "Thanks for playing\n",
      "Choices are:\n",
      "    1. Rock\n",
      "    2. Paper\n",
      "    3. Scissors\n"
     ]
    },
    {
     "name": "stdin",
     "output_type": "stream",
     "text": [
      "Enter your choice from 1-3: 2\n"
     ]
    },
    {
     "name": "stdout",
     "output_type": "stream",
     "text": [
      "\n",
      " The user's choice is Paper\n",
      "Now it is computer's turn\n",
      "The computer's choice is Paper\n",
      "it's a tie\n",
      "Scores are\n",
      "Pritha 's score is 1\n",
      "computer's score is 4\n",
      "ties are: tie 0\n"
     ]
    },
    {
     "name": "stdin",
     "output_type": "stream",
     "text": [
      "Do you want to play again? yes\n"
     ]
    },
    {
     "name": "stdout",
     "output_type": "stream",
     "text": [
      "Game Over\n",
      "Thanks for playing\n",
      "Choices are:\n",
      "    1. Rock\n",
      "    2. Paper\n",
      "    3. Scissors\n"
     ]
    },
    {
     "name": "stdin",
     "output_type": "stream",
     "text": [
      "Enter your choice from 1-3: 2\n"
     ]
    },
    {
     "name": "stdout",
     "output_type": "stream",
     "text": [
      "\n",
      " The user's choice is Paper\n",
      "Now it is computer's turn\n",
      "The computer's choice is Rock\n",
      "Paper Wins\n",
      "Scores are\n",
      "Pritha 's score is 2\n",
      "computer's score is 4\n",
      "ties are: tie 0\n"
     ]
    },
    {
     "name": "stdin",
     "output_type": "stream",
     "text": [
      "Do you want to play again? yes\n"
     ]
    },
    {
     "name": "stdout",
     "output_type": "stream",
     "text": [
      "Game Over\n",
      "Thanks for playing\n",
      "Choices are:\n",
      "    1. Rock\n",
      "    2. Paper\n",
      "    3. Scissors\n"
     ]
    },
    {
     "name": "stdin",
     "output_type": "stream",
     "text": [
      "Enter your choice from 1-3: 2\n"
     ]
    },
    {
     "name": "stdout",
     "output_type": "stream",
     "text": [
      "\n",
      " The user's choice is Paper\n",
      "Now it is computer's turn\n",
      "The computer's choice is Rock\n",
      "Paper Wins\n",
      "Scores are\n",
      "Pritha 's score is 3\n",
      "computer's score is 4\n",
      "ties are: tie 0\n"
     ]
    },
    {
     "name": "stdin",
     "output_type": "stream",
     "text": [
      "Do you want to play again? yes\n"
     ]
    },
    {
     "name": "stdout",
     "output_type": "stream",
     "text": [
      "Game Over\n",
      "Thanks for playing\n",
      "Choices are:\n",
      "    1. Rock\n",
      "    2. Paper\n",
      "    3. Scissors\n"
     ]
    },
    {
     "name": "stdin",
     "output_type": "stream",
     "text": [
      "Enter your choice from 1-3: 1\n"
     ]
    },
    {
     "name": "stdout",
     "output_type": "stream",
     "text": [
      "\n",
      " The user's choice is Rock\n",
      "Now it is computer's turn\n",
      "The computer's choice is Paper\n",
      "Paper Wins\n",
      "Scores are\n",
      "Pritha 's score is 3\n",
      "computer's score is 5\n",
      "ties are: tie 0\n"
     ]
    },
    {
     "name": "stdin",
     "output_type": "stream",
     "text": [
      "Do you want to play again? yes\n"
     ]
    },
    {
     "name": "stdout",
     "output_type": "stream",
     "text": [
      "Game Over\n",
      "Thanks for playing\n",
      "Choices are:\n",
      "    1. Rock\n",
      "    2. Paper\n",
      "    3. Scissors\n"
     ]
    },
    {
     "name": "stdin",
     "output_type": "stream",
     "text": [
      "Enter your choice from 1-3: 2\n"
     ]
    },
    {
     "name": "stdout",
     "output_type": "stream",
     "text": [
      "\n",
      " The user's choice is Paper\n",
      "Now it is computer's turn\n",
      "The computer's choice is Scissors\n",
      "Scissors Wins\n",
      "Scores are\n",
      "Pritha 's score is 3\n",
      "computer's score is 6\n",
      "ties are: tie 0\n"
     ]
    }
   ],
   "source": [
    "import random\n",
    "\n",
    "\n",
    "print(\"~~~~~~~~~~Welcome to RPS~~~~~~~~~~~~~\")\n",
    "\n",
    "user_score=0\n",
    "computer_score=0\n",
    "Tie=0\n",
    "\n",
    "name=input(\"Enter your name here:\")\n",
    "print(\"\"\"\n",
    "Winning Rules:\n",
    "1. Paper VS Rock--> Paper\n",
    "2. Rock VS Scissors--> Rock\n",
    "3. Scissors VS Paper--> Scissors\"\"\")\n",
    "print()\n",
    "\n",
    "while True:\n",
    "\n",
    "    print(\"\"\"Choices are:\n",
    "    1. Rock\n",
    "    2. Paper\n",
    "    3. Scissors\"\"\")\n",
    "    \n",
    "    choice=int(input(\"Enter your choice from 1-3:\"))\n",
    "    print()\n",
    "    \n",
    "    while choice > 3 or choice < 1:\n",
    "        choice=int(input(\"Enter a valid input\"))\n",
    "    \n",
    "    if choice==1:\n",
    "        user_choice=\"Rock\"\n",
    "    \n",
    "    elif choice==2:\n",
    "        user_choice= \"Paper\"\n",
    "    \n",
    "    else:\n",
    "        user_choice= \"Scissors\"\n",
    "    \n",
    "    print(\" The user's choice is\", user_choice)\n",
    "    print(\"Now it is computer's turn\")\n",
    "    \n",
    "    computer= random.randint(1,3)\n",
    "    if computer==1:\n",
    "        computer_choice=\"Rock\"\n",
    "    \n",
    "    elif computer==2:\n",
    "        computer_choice=\"Paper\"\n",
    "    \n",
    "    else:\n",
    "        computer_choice= \"Scissors\"\n",
    "    \n",
    "    print(\"The computer's choice is\", computer_choice)\n",
    "    \n",
    "    if ((user_choice==\"Paper\" and computer_choice==\"Rock\") or user_choice==\"Rock\" and computer_choice==\"Paper\"):\n",
    "        print(\"Paper Wins\")\n",
    "        result= \"Paper\"\n",
    "    elif((user_choice==\"Scissors\" and computer_choice==\"Rock\") or user_choice==\"Rock\" and computer_choice==\"Scissors\"):\n",
    "        print(\"Rock Wins\")\n",
    "        result= \"Rock\"\n",
    "    elif (user_choice==computer_choice):\n",
    "        print(\"it's a tie\")\n",
    "        result= \"Tie\"\n",
    "    else:\n",
    "        print(\"Scissors Wins\")\n",
    "        result= \"Scissors\"\n",
    "    \n",
    "    if result== \"Tie\":\n",
    "        Tie+=1\n",
    "    \n",
    "    elif result== user_choice:\n",
    "        user_score+=1\n",
    "    \n",
    "    else:\n",
    "        computer_score+=1\n",
    "    \n",
    "    print(\"Scores are\")\n",
    "    print(name, \"'s score is\", user_score)\n",
    "    print(\"computer's score is\", computer_score)\n",
    "    print(\"ties are: tie\", ties)\n",
    "    \n",
    "    \n",
    "    repeat=input(\"Do you want to play again?\")\n",
    "    if repeat==\"no\" or repeat==\"No\":\n",
    "        break\n",
    "    \n",
    "    print(\"Game Over\")\n",
    "    print(\"Thanks for playing\")\n",
    "    \n",
    "    \n",
    "\n"
   ]
  },
  {
   "cell_type": "code",
   "execution_count": null,
   "id": "b8227a9f-69bd-4b39-8349-c5628584f907",
   "metadata": {},
   "outputs": [],
   "source": []
  }
 ],
 "metadata": {
  "kernelspec": {
   "display_name": "Python 3 (ipykernel)",
   "language": "python",
   "name": "python3"
  },
  "language_info": {
   "codemirror_mode": {
    "name": "ipython",
    "version": 3
   },
   "file_extension": ".py",
   "mimetype": "text/x-python",
   "name": "python",
   "nbconvert_exporter": "python",
   "pygments_lexer": "ipython3",
   "version": "3.12.2"
  }
 },
 "nbformat": 4,
 "nbformat_minor": 5
}
